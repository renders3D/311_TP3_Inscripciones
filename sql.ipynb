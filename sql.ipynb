{
 "cells": [
  {
   "cell_type": "code",
   "execution_count": 1,
   "metadata": {},
   "outputs": [],
   "source": [
    "# Los comandos mágicos permiten ejecutar instrucciones SQL directamente desde Python\n",
    "%load_ext sql\n",
    "%config SqlMagic.style = '_DEPRECATED_DEFAULT'"
   ]
  },
  {
   "cell_type": "markdown",
   "metadata": {},
   "source": [
    "### Creación de la Base de Datos"
   ]
  },
  {
   "cell_type": "markdown",
   "metadata": {},
   "source": [
    "La siguiente instrucción SQLite conecta con la base de datos \\verb|Instrucciones|. Si la base de datos no existe, el sistema la crea automáticamente."
   ]
  },
  {
   "cell_type": "code",
   "execution_count": 2,
   "metadata": {},
   "outputs": [],
   "source": [
    "%sql sqlite:///Inscripciones.db"
   ]
  },
  {
   "cell_type": "markdown",
   "metadata": {},
   "source": [
    "### Creación de las Tablas"
   ]
  },
  {
   "cell_type": "markdown",
   "metadata": {},
   "source": [
    "Esquema SQL para la creación de la tabla \\Verb|Escuelas|"
   ]
  },
  {
   "cell_type": "code",
   "execution_count": 3,
   "metadata": {},
   "outputs": [
    {
     "name": "stdout",
     "output_type": "stream",
     "text": [
      " * sqlite:///Inscripciones.db\n",
      "Done.\n"
     ]
    },
    {
     "data": {
      "text/plain": [
       "[]"
      ]
     },
     "execution_count": 3,
     "metadata": {},
     "output_type": "execute_result"
    }
   ],
   "source": [
    "%sql CREATE TABLE \"Escuelas\" (\"NumeroEscuela\" INTEGER NOT NULL, \"NombreEscuela\" TEXT NOT NULL, PRIMARY KEY (\"NumeroEscuela\"))"
   ]
  },
  {
   "cell_type": "markdown",
   "metadata": {},
   "source": [
    "Esquema SQL para la creación de la tabla \\Verb|TipoInscripcion|"
   ]
  },
  {
   "cell_type": "code",
   "execution_count": 4,
   "metadata": {},
   "outputs": [
    {
     "name": "stdout",
     "output_type": "stream",
     "text": [
      " * sqlite:///Inscripciones.db\n",
      "Done.\n"
     ]
    },
    {
     "data": {
      "text/plain": [
       "[]"
      ]
     },
     "execution_count": 4,
     "metadata": {},
     "output_type": "execute_result"
    }
   ],
   "source": [
    "%sql CREATE TABLE \"TipoInscripcion\" (\"Id-Tipo\" INTEGER NOT NULL, \"Descripcion\" TEXT NOT NULL, PRIMARY KEY (\"Id-Tipo\"))"
   ]
  },
  {
   "cell_type": "markdown",
   "metadata": {},
   "source": [
    "Esquema SQL para la creación de la tabla \\Verb|Estudiantes|"
   ]
  },
  {
   "cell_type": "code",
   "execution_count": 5,
   "metadata": {},
   "outputs": [
    {
     "name": "stdout",
     "output_type": "stream",
     "text": [
      " * sqlite:///Inscripciones.db\n",
      "Done.\n"
     ]
    },
    {
     "data": {
      "text/plain": [
       "[]"
      ]
     },
     "execution_count": 5,
     "metadata": {},
     "output_type": "execute_result"
    }
   ],
   "source": [
    "%sql CREATE TABLE \"Estudiantes\" (\"CI\" TEXT NOT NULL, \"EstudianteNombre\"\tTEXT NOT NULL, \"EstudianteApellido\" TEXT NOT NULL, \"Direccion\" TEXT, \"Lapso\" TEXT NOT NULL, \"NumeroInscripcion\"\tINTEGER, PRIMARY KEY (\"CI\"))"
   ]
  },
  {
   "cell_type": "markdown",
   "metadata": {},
   "source": [
    "Esquema SQL para la creación de la tabla \\Verb|Materias|"
   ]
  },
  {
   "cell_type": "code",
   "execution_count": 6,
   "metadata": {},
   "outputs": [
    {
     "name": "stdout",
     "output_type": "stream",
     "text": [
      " * sqlite:///Inscripciones.db\n",
      "Done.\n"
     ]
    },
    {
     "data": {
      "text/plain": [
       "[]"
      ]
     },
     "execution_count": 6,
     "metadata": {},
     "output_type": "execute_result"
    }
   ],
   "source": [
    "%sql CREATE TABLE \"Materias\" (\"CodigoMateria\" TEXT NOT NULL, \"Nombre\" TEXT NOT NULL, \"NumeroEscuela\" INTEGER, PRIMARY KEY (\"CodigoMateria\"), FOREIGN KEY (\"NumeroEscuela\") REFERENCES \"Escuelas\" (\"NumeroEscuela\"))"
   ]
  },
  {
   "cell_type": "markdown",
   "metadata": {},
   "source": [
    "Esquema SQL para la creación de la tabla \\Verb|Inscripciones|"
   ]
  },
  {
   "cell_type": "code",
   "execution_count": 7,
   "metadata": {},
   "outputs": [
    {
     "name": "stdout",
     "output_type": "stream",
     "text": [
      " * sqlite:///Inscripciones.db\n",
      "Done.\n"
     ]
    },
    {
     "data": {
      "text/plain": [
       "[]"
      ]
     },
     "execution_count": 7,
     "metadata": {},
     "output_type": "execute_result"
    }
   ],
   "source": [
    "%sql CREATE TABLE \"Inscripciones\" (\"NumeroInscripcion\" INTEGER NOT NULL, \"Fecha\" DATE NOT NULL, \"Monto\"\tDECIMAL NOT NULL, \"TipoInscripcion\" INTEGER NOT NULL, \"Lapso\" TEXT NOT NULL,\"CodigoMateria\" NOT NULL, \"NumeroSemestre\" NOT NULL, PRIMARY KEY (\"NumeroInscripcion\" AUTOINCREMENT), FOREIGN KEY (\"CodigoMateria\") REFERENCES \"Materias\" (\"CodigoMateria\"), FOREIGN KEY (\"TipoInscripcion\") REFERENCES \"TipoInscripcion\" (\"Id-Tipo\"))"
   ]
  },
  {
   "cell_type": "markdown",
   "metadata": {},
   "source": [
    "### Inserción de Tuplas"
   ]
  },
  {
   "cell_type": "markdown",
   "metadata": {},
   "source": [
    "Inserciones en la tabla \\Verb|Estudiantes|"
   ]
  },
  {
   "cell_type": "code",
   "execution_count": 8,
   "metadata": {},
   "outputs": [
    {
     "name": "stdout",
     "output_type": "stream",
     "text": [
      " * sqlite:///Inscripciones.db\n",
      "8 rows affected.\n"
     ]
    },
    {
     "data": {
      "text/plain": [
       "[]"
      ]
     },
     "execution_count": 8,
     "metadata": {},
     "output_type": "execute_result"
    }
   ],
   "source": [
    "%sql INSERT INTO Estudiantes (\"CI\", \"EstudianteNombre\", \"EstudianteApellido\", \"Direccion\", \"Lapso\", \"NumeroInscripcion\") VALUES (\"20100200\", \"José\", \"Carmona\", \"Av. Bravo Edif. Socorro Petare\", \"2010-1\", 1), (\"21150210\", \"Luis\", \"González\", \"Av. García Edif. Iris La California\", \"2010-2\", 2), (\"22110300\", \"Abelardo\", \"Gutiérrez\", \"Calle. Santiago. Casa 8. La Urbina\", \"2010-1\", 3), (\"23105600\", \"Sandra\", \"Hernández\", \"Calle La Línea. Casa 18 Catia\", \"2011-1\", 4), (\"21900300\", \"Carlos\", \"Urdaneta\", \"Av. Bocono. Edif. Sucre.La Florida\", \"2011-2\", 5), (\"22115116\", \"María\", \"Alvarado\", \"Av. Gustavo. Edif. SOS,Sebucán\", \"2011-1\", 6), (\"23450200\", \"Agustín\", \"Lara\", \"Av. Colinas. Edif. Miguel. Colinas de Bello Monte\", \"2012-1\", 7), (\"20800250\", \"Cristian\", \"Cuevas\", \"Calle Justa. Casa No. 30. El Llanito\", \"2012-2\", 8)"
   ]
  },
  {
   "cell_type": "markdown",
   "metadata": {},
   "source": [
    "El siguiente registro arroja un error, ya que el número de cédula ya se encuentra registrado en la tabla \\Verb|Estudiantes| y no pueden existir dos tuplas distintas de estudiantes con el mismo número de cédula"
   ]
  },
  {
   "cell_type": "code",
   "execution_count": 9,
   "metadata": {},
   "outputs": [
    {
     "name": "stdout",
     "output_type": "stream",
     "text": [
      " * sqlite:///Inscripciones.db\n",
      "(sqlite3.IntegrityError) UNIQUE constraint failed: Estudiantes.CI\n",
      "[SQL: INSERT INTO Estudiantes (\"CI\", \"EstudianteNombre\" , \"EstudianteApellido\" , \"Direccion\" , \"Lapso\" , \"NumeroInscripcion\" ) VALUES (\"20100200\", \"Josefina\" , \"López\" , \"Av. Circunvalación Edif. Posterior. Lomas del Este.\" , \"2012-2\" , 9)]\n",
      "(Background on this error at: https://sqlalche.me/e/20/gkpj)\n"
     ]
    }
   ],
   "source": [
    "%sql INSERT INTO Estudiantes (\"CI\", \"EstudianteNombre\", \"EstudianteApellido\", \"Direccion\", \"Lapso\", \"NumeroInscripcion\") VALUES (\"20100200\", \"Josefina\", \"López\", \"Av. Circunvalación Edif. Posterior. Lomas del Este.\", \"2012-2\", 9)"
   ]
  },
  {
   "cell_type": "markdown",
   "metadata": {},
   "source": [
    "Inserciones en la tabla \\Verb|Escuelas|"
   ]
  },
  {
   "cell_type": "code",
   "execution_count": 10,
   "metadata": {},
   "outputs": [
    {
     "name": "stdout",
     "output_type": "stream",
     "text": [
      " * sqlite:///Inscripciones.db\n",
      "3 rows affected.\n"
     ]
    },
    {
     "data": {
      "text/plain": [
       "[]"
      ]
     },
     "execution_count": 10,
     "metadata": {},
     "output_type": "execute_result"
    }
   ],
   "source": [
    "%sql INSERT INTO Escuelas (\"NumeroEscuela\", \"NombreEscuela\") VALUES (47, \"Sistemas\"), (44, \"Mantenimiento\"), (41, \"Civil\")"
   ]
  },
  {
   "cell_type": "markdown",
   "metadata": {},
   "source": [
    "Inserciones en la tabla \\Verb|Materias|"
   ]
  },
  {
   "cell_type": "code",
   "execution_count": 11,
   "metadata": {},
   "outputs": [
    {
     "name": "stdout",
     "output_type": "stream",
     "text": [
      " * sqlite:///Inscripciones.db\n",
      "9 rows affected.\n"
     ]
    },
    {
     "data": {
      "text/plain": [
       "[]"
      ]
     },
     "execution_count": 11,
     "metadata": {},
     "output_type": "execute_result"
    }
   ],
   "source": [
    "%sql INSERT INTO Materias (\"CodigoMateria\", \"Nombre\", \"NumeroEscuela\") VALUES (\"Comp-47\", \"Computación\", 47), (\"Fis-47\", \"Física\", 47), (\"Mat4-47\", \"Matemática IV\", 47), (\"Mat-44\", \"Matemática\", 44), (\"Fis-44\", \"Física\", 44), (\"Elec-44\", \"Electrónica\", 44), (\"Est-41\", \"Estadística\", 41), (\"Lab-41\", \"Laboratorio\", 41), (\"Met-41\", \"Metodología\", 41)"
   ]
  },
  {
   "cell_type": "markdown",
   "metadata": {},
   "source": [
    "Inserciones en la tabla \\Verb|TipoInscripcion|"
   ]
  },
  {
   "cell_type": "code",
   "execution_count": 12,
   "metadata": {},
   "outputs": [
    {
     "name": "stdout",
     "output_type": "stream",
     "text": [
      " * sqlite:///Inscripciones.db\n",
      "3 rows affected.\n"
     ]
    },
    {
     "data": {
      "text/plain": [
       "[]"
      ]
     },
     "execution_count": 12,
     "metadata": {},
     "output_type": "execute_result"
    }
   ],
   "source": [
    "%sql INSERT INTO TipoInscripcion (\"Id-Tipo\", \"Descripcion\") VALUES (1, \"Regular\"), (2, \"Reincorporado\"), (3, \"Equivalencia\")"
   ]
  },
  {
   "cell_type": "markdown",
   "metadata": {},
   "source": [
    "Inserciones en la tabla \\Verb|Inscripciones|"
   ]
  },
  {
   "cell_type": "code",
   "execution_count": 13,
   "metadata": {},
   "outputs": [
    {
     "name": "stdout",
     "output_type": "stream",
     "text": [
      " * sqlite:///Inscripciones.db\n",
      "9 rows affected.\n"
     ]
    },
    {
     "data": {
      "text/plain": [
       "[]"
      ]
     },
     "execution_count": 13,
     "metadata": {},
     "output_type": "execute_result"
    }
   ],
   "source": [
    "%sql INSERT INTO Inscripciones (\"Fecha\", \"Monto\", \"TipoInscripcion\", \"Lapso\", \"CodigoMateria\", \"NumeroSemestre\") VALUES (\"20-01-2010\", 15.0, 1, \"2010-1\", \"Comp-47\", 3), (\"21-06-2010\", 20.0, 2, \"2010-2\", \"Fis-47\", 4), (\"22-01-2010\", 25.0, 3, \"2010-1\", \"Mat4-47\", 6), (\"20-01-2010\", 15.0, 1, \"2011-1\", \"Mat-44\", 3), (\"21-06-2011\", 20.0, 2, \"2011-2\", \"Fis-44\", 4), (\"22-06-2011\", 25.0, 3, \"2011-1\", \"Elec-44\", 6), (\"20-01-2012\", 15.0, 1, \"2012-1\", \"Est-41\", 3), (\"21-06-2012\", 20.0, 2, \"2012-2\", \"Lab-41\", 4), (\"22-06-2012\", 25.0, 3, \"2012-2\", \"Met-41\", 6)"
   ]
  },
  {
   "cell_type": "markdown",
   "metadata": {},
   "source": [
    "### Consulta SQL"
   ]
  },
  {
   "cell_type": "code",
   "execution_count": 38,
   "metadata": {},
   "outputs": [
    {
     "name": "stdout",
     "output_type": "stream",
     "text": [
      " * sqlite:///Inscripciones.db\n",
      "Done.\n"
     ]
    },
    {
     "data": {
      "text/html": [
       "<table>\n",
       "    <thead>\n",
       "        <tr>\n",
       "            <th>No. Semestre</th>\n",
       "            <th>No. Inscripción</th>\n",
       "            <th>Tipo de Inscripción</th>\n",
       "            <th>Código Materia</th>\n",
       "            <th>Escuela</th>\n",
       "            <th>C.I. Estudiante</th>\n",
       "        </tr>\n",
       "    </thead>\n",
       "    <tbody>\n",
       "        <tr>\n",
       "            <td>3</td>\n",
       "            <td>1</td>\n",
       "            <td>1</td>\n",
       "            <td>Comp-47</td>\n",
       "            <td>Sistemas</td>\n",
       "            <td>20100200</td>\n",
       "        </tr>\n",
       "        <tr>\n",
       "            <td>4</td>\n",
       "            <td>2</td>\n",
       "            <td>2</td>\n",
       "            <td>Fis-47</td>\n",
       "            <td>Sistemas</td>\n",
       "            <td>21150210</td>\n",
       "        </tr>\n",
       "        <tr>\n",
       "            <td>6</td>\n",
       "            <td>3</td>\n",
       "            <td>3</td>\n",
       "            <td>Mat4-47</td>\n",
       "            <td>Sistemas</td>\n",
       "            <td>22110300</td>\n",
       "        </tr>\n",
       "        <tr>\n",
       "            <td>3</td>\n",
       "            <td>4</td>\n",
       "            <td>1</td>\n",
       "            <td>Mat-44</td>\n",
       "            <td>Mantenimiento</td>\n",
       "            <td>23105600</td>\n",
       "        </tr>\n",
       "        <tr>\n",
       "            <td>4</td>\n",
       "            <td>5</td>\n",
       "            <td>2</td>\n",
       "            <td>Fis-44</td>\n",
       "            <td>Mantenimiento</td>\n",
       "            <td>21900300</td>\n",
       "        </tr>\n",
       "        <tr>\n",
       "            <td>6</td>\n",
       "            <td>6</td>\n",
       "            <td>3</td>\n",
       "            <td>Elec-44</td>\n",
       "            <td>Mantenimiento</td>\n",
       "            <td>22115116</td>\n",
       "        </tr>\n",
       "        <tr>\n",
       "            <td>3</td>\n",
       "            <td>7</td>\n",
       "            <td>1</td>\n",
       "            <td>Est-41</td>\n",
       "            <td>Civil</td>\n",
       "            <td>23450200</td>\n",
       "        </tr>\n",
       "        <tr>\n",
       "            <td>4</td>\n",
       "            <td>8</td>\n",
       "            <td>2</td>\n",
       "            <td>Lab-41</td>\n",
       "            <td>Civil</td>\n",
       "            <td>20800250</td>\n",
       "        </tr>\n",
       "    </tbody>\n",
       "</table>"
      ],
      "text/plain": [
       "[(3, 1, 1, 'Comp-47', 'Sistemas', '20100200'),\n",
       " (4, 2, 2, 'Fis-47', 'Sistemas', '21150210'),\n",
       " (6, 3, 3, 'Mat4-47', 'Sistemas', '22110300'),\n",
       " (3, 4, 1, 'Mat-44', 'Mantenimiento', '23105600'),\n",
       " (4, 5, 2, 'Fis-44', 'Mantenimiento', '21900300'),\n",
       " (6, 6, 3, 'Elec-44', 'Mantenimiento', '22115116'),\n",
       " (3, 7, 1, 'Est-41', 'Civil', '23450200'),\n",
       " (4, 8, 2, 'Lab-41', 'Civil', '20800250')]"
      ]
     },
     "execution_count": 38,
     "metadata": {},
     "output_type": "execute_result"
    }
   ],
   "source": [
    "%sql SELECT I.NumeroSemestre AS 'No. Semestre', I.NumeroInscripcion AS 'No. Inscripción', I.TipoInscripcion AS 'Tipo de Inscripción', I.CodigoMateria AS 'Código Materia', Esc.NombreEscuela AS 'Escuela', E.CI AS 'C.I. Estudiante' FROM Inscripciones I JOIN Estudiantes E ON E.NumeroInscripcion = I.NumeroInscripcion JOIN Materias M ON M.CodigoMateria = I.CodigoMateria JOIN Escuelas Esc ON Esc.NumeroEscuela = M.NumeroEscuela"
   ]
  }
 ],
 "metadata": {
  "kernelspec": {
   "display_name": "Python 3 (ipykernel)",
   "language": "python",
   "name": "python3"
  },
  "language_info": {
   "codemirror_mode": {
    "name": "ipython",
    "version": 3
   },
   "file_extension": ".py",
   "mimetype": "text/x-python",
   "name": "python",
   "nbconvert_exporter": "python",
   "pygments_lexer": "ipython3",
   "version": "3.12.0"
  }
 },
 "nbformat": 4,
 "nbformat_minor": 4
}
